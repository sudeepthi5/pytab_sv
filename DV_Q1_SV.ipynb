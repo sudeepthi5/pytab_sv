{
 "cells": [
  {
   "cell_type": "markdown",
   "id": "19ea7ad7",
   "metadata": {},
   "source": [
    "### Question 1\n",
    "\n",
    "Using the spreadsheet with the 2018 data, create a scatter plot that plots mean household income against the percentage of the population with health insurance.  Change the color of the bubbles to green and use the documentation on matplotlib.pyplot.scatter to change the bubbles to stars (5 points)."
   ]
  },
  {
   "cell_type": "markdown",
   "id": "e2bb9ef4",
   "metadata": {},
   "source": [
    "### Importing the file"
   ]
  },
  {
   "cell_type": "code",
   "execution_count": 44,
   "id": "0d21a003",
   "metadata": {},
   "outputs": [
    {
     "data": {
      "text/html": [
       "<div>\n",
       "<style scoped>\n",
       "    .dataframe tbody tr th:only-of-type {\n",
       "        vertical-align: middle;\n",
       "    }\n",
       "\n",
       "    .dataframe tbody tr th {\n",
       "        vertical-align: top;\n",
       "    }\n",
       "\n",
       "    .dataframe thead th {\n",
       "        text-align: right;\n",
       "    }\n",
       "</style>\n",
       "<table border=\"1\" class=\"dataframe\">\n",
       "  <thead>\n",
       "    <tr style=\"text-align: right;\">\n",
       "      <th></th>\n",
       "      <th>NAME</th>\n",
       "      <th>Unemployment Rate</th>\n",
       "      <th>Median Family Income</th>\n",
       "      <th>Mean Family Income</th>\n",
       "      <th>Per Capita Income</th>\n",
       "      <th>Perc with health Insurance</th>\n",
       "      <th>Perc Families below Poverty Line</th>\n",
       "      <th>Perc People below Poverty Line</th>\n",
       "      <th>Obesity Rates</th>\n",
       "    </tr>\n",
       "  </thead>\n",
       "  <tbody>\n",
       "    <tr>\n",
       "      <th>0</th>\n",
       "      <td>Alabama</td>\n",
       "      <td>5.6</td>\n",
       "      <td>63837</td>\n",
       "      <td>82884</td>\n",
       "      <td>27525</td>\n",
       "      <td>90.0</td>\n",
       "      <td>12.2</td>\n",
       "      <td>23.8</td>\n",
       "      <td>36.35</td>\n",
       "    </tr>\n",
       "    <tr>\n",
       "      <th>1</th>\n",
       "      <td>Alaska</td>\n",
       "      <td>6.8</td>\n",
       "      <td>89847</td>\n",
       "      <td>109619</td>\n",
       "      <td>35735</td>\n",
       "      <td>87.4</td>\n",
       "      <td>7.5</td>\n",
       "      <td>14.1</td>\n",
       "      <td>29.45</td>\n",
       "    </tr>\n",
       "    <tr>\n",
       "      <th>2</th>\n",
       "      <td>Arizona</td>\n",
       "      <td>5.4</td>\n",
       "      <td>69981</td>\n",
       "      <td>92154</td>\n",
       "      <td>30530</td>\n",
       "      <td>89.4</td>\n",
       "      <td>9.9</td>\n",
       "      <td>20.1</td>\n",
       "      <td>29.65</td>\n",
       "    </tr>\n",
       "    <tr>\n",
       "      <th>3</th>\n",
       "      <td>Arkansas</td>\n",
       "      <td>4.5</td>\n",
       "      <td>58080</td>\n",
       "      <td>79300</td>\n",
       "      <td>26626</td>\n",
       "      <td>91.8</td>\n",
       "      <td>12.7</td>\n",
       "      <td>24.7</td>\n",
       "      <td>37.35</td>\n",
       "    </tr>\n",
       "    <tr>\n",
       "      <th>4</th>\n",
       "      <td>California</td>\n",
       "      <td>5.5</td>\n",
       "      <td>86165</td>\n",
       "      <td>119820</td>\n",
       "      <td>37124</td>\n",
       "      <td>92.8</td>\n",
       "      <td>9.1</td>\n",
       "      <td>17.4</td>\n",
       "      <td>25.75</td>\n",
       "    </tr>\n",
       "  </tbody>\n",
       "</table>\n",
       "</div>"
      ],
      "text/plain": [
       "         NAME  Unemployment Rate  Median Family Income  Mean Family Income  \\\n",
       "0     Alabama                5.6                 63837               82884   \n",
       "1      Alaska                6.8                 89847              109619   \n",
       "2     Arizona                5.4                 69981               92154   \n",
       "3    Arkansas                4.5                 58080               79300   \n",
       "4  California                5.5                 86165              119820   \n",
       "\n",
       "   Per Capita Income  Perc with health Insurance  \\\n",
       "0              27525                        90.0   \n",
       "1              35735                        87.4   \n",
       "2              30530                        89.4   \n",
       "3              26626                        91.8   \n",
       "4              37124                        92.8   \n",
       "\n",
       "   Perc Families below Poverty Line  Perc People below Poverty Line  \\\n",
       "0                              12.2                            23.8   \n",
       "1                               7.5                            14.1   \n",
       "2                               9.9                            20.1   \n",
       "3                              12.7                            24.7   \n",
       "4                               9.1                            17.4   \n",
       "\n",
       "   Obesity Rates  \n",
       "0          36.35  \n",
       "1          29.45  \n",
       "2          29.65  \n",
       "3          37.35  \n",
       "4          25.75  "
      ]
     },
     "execution_count": 44,
     "metadata": {},
     "output_type": "execute_result"
    }
   ],
   "source": [
    "import pandas as pd\n",
    "\n",
    "df = pd.read_excel(r'C:\\Users\\HP\\Downloads\\Data_dv_2018.xlsx')\n",
    "\n",
    "df.head()"
   ]
  },
  {
   "cell_type": "code",
   "execution_count": 46,
   "id": "8f18e5fd",
   "metadata": {},
   "outputs": [
    {
     "data": {
      "text/plain": [
       "<AxesSubplot:title={'center':'Mean Family Income Vs Perc with health Insurance'}, xlabel='Mean Family Income', ylabel='Perc with health Insurance'>"
      ]
     },
     "execution_count": 46,
     "metadata": {},
     "output_type": "execute_result"
    },
    {
     "data": {
      "image/png": "[encoded data removed]",
      "text/plain": [
       "<Figure size 640x480 with 1 Axes>"
      ]
     },
     "metadata": {},
     "output_type": "display_data"
    }
   ],
   "source": [
    "\n",
    "df.plot('Mean Family Income','Perc with health Insurance', kind='scatter', marker = '*', c= 'green',title = \"Mean Family Income Vs Perc with health Insurance\")"
   ]
  },
  {
   "cell_type": "code",
   "execution_count": null,
   "id": "8ad3f121",
   "metadata": {},
   "outputs": [],
   "source": []
  }
 ],
 "metadata": {
  "kernelspec": {
   "display_name": "Python 3 (ipykernel)",
   "language": "python",
   "name": "python3"
  },
  "language_info": {
   "codemirror_mode": {
    "name": "ipython",
    "version": 3
   },
   "file_extension": ".py",
   "mimetype": "text/x-python",
   "name": "python",
   "nbconvert_exporter": "python",
   "pygments_lexer": "ipython3",
   "version": "3.9.13"
  }
 },
 "nbformat": 4,
 "nbformat_minor": 5
}
