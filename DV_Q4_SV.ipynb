{
 "cells": [
  {
   "cell_type": "markdown",
   "id": "36482151",
   "metadata": {},
   "source": [
    "#### Question 4\n",
    "Using the simplified Car Sales Data, a (horizontal) bar chart that shows the total sales and total costs for the Germany, Spain, and Switzerland was drawn."
   ]
  },
  {
   "cell_type": "code",
   "execution_count": 1,
   "id": "22009678",
   "metadata": {},
   "outputs": [
    {
     "data": {
      "text/html": [
       "<div>\n",
       "<style scoped>\n",
       "    .dataframe tbody tr th:only-of-type {\n",
       "        vertical-align: middle;\n",
       "    }\n",
       "\n",
       "    .dataframe tbody tr th {\n",
       "        vertical-align: top;\n",
       "    }\n",
       "\n",
       "    .dataframe thead th {\n",
       "        text-align: right;\n",
       "    }\n",
       "</style>\n",
       "<table border=\"1\" class=\"dataframe\">\n",
       "  <thead>\n",
       "    <tr style=\"text-align: right;\">\n",
       "      <th></th>\n",
       "      <th>Make</th>\n",
       "      <th>CountryName</th>\n",
       "      <th>SalePrice</th>\n",
       "      <th>CostPrice</th>\n",
       "      <th>TotalDiscount</th>\n",
       "      <th>DeliveryCharge</th>\n",
       "      <th>SpareParts</th>\n",
       "      <th>LaborCost</th>\n",
       "      <th>Model</th>\n",
       "      <th>Color</th>\n",
       "    </tr>\n",
       "  </thead>\n",
       "  <tbody>\n",
       "    <tr>\n",
       "      <th>0</th>\n",
       "      <td>Rolls Royce</td>\n",
       "      <td>United Kingdom</td>\n",
       "      <td>95000</td>\n",
       "      <td>50000</td>\n",
       "      <td>500.0</td>\n",
       "      <td>750</td>\n",
       "      <td>500</td>\n",
       "      <td>750</td>\n",
       "      <td>Camargue</td>\n",
       "      <td>Red</td>\n",
       "    </tr>\n",
       "    <tr>\n",
       "      <th>1</th>\n",
       "      <td>Aston Martin</td>\n",
       "      <td>United Kingdom</td>\n",
       "      <td>120000</td>\n",
       "      <td>75000</td>\n",
       "      <td>0.0</td>\n",
       "      <td>1500</td>\n",
       "      <td>600</td>\n",
       "      <td>550</td>\n",
       "      <td>DBS</td>\n",
       "      <td>Blue</td>\n",
       "    </tr>\n",
       "    <tr>\n",
       "      <th>2</th>\n",
       "      <td>Rolls Royce</td>\n",
       "      <td>United Kingdom</td>\n",
       "      <td>88000</td>\n",
       "      <td>75000</td>\n",
       "      <td>750.0</td>\n",
       "      <td>1000</td>\n",
       "      <td>750</td>\n",
       "      <td>550</td>\n",
       "      <td>Silver Ghost</td>\n",
       "      <td>Green</td>\n",
       "    </tr>\n",
       "    <tr>\n",
       "      <th>3</th>\n",
       "      <td>Rolls Royce</td>\n",
       "      <td>United Kingdom</td>\n",
       "      <td>89000</td>\n",
       "      <td>88000</td>\n",
       "      <td>0.0</td>\n",
       "      <td>1000</td>\n",
       "      <td>85</td>\n",
       "      <td>550</td>\n",
       "      <td>Silver Ghost</td>\n",
       "      <td>Blue</td>\n",
       "    </tr>\n",
       "    <tr>\n",
       "      <th>4</th>\n",
       "      <td>Rolls Royce</td>\n",
       "      <td>United Kingdom</td>\n",
       "      <td>92000</td>\n",
       "      <td>62000</td>\n",
       "      <td>0.0</td>\n",
       "      <td>1500</td>\n",
       "      <td>2500</td>\n",
       "      <td>550</td>\n",
       "      <td>Camargue</td>\n",
       "      <td>Canary Yellow</td>\n",
       "    </tr>\n",
       "  </tbody>\n",
       "</table>\n",
       "</div>"
      ],
      "text/plain": [
       "           Make     CountryName  SalePrice  CostPrice  TotalDiscount  \\\n",
       "0   Rolls Royce  United Kingdom      95000      50000          500.0   \n",
       "1  Aston Martin  United Kingdom     120000      75000            0.0   \n",
       "2   Rolls Royce  United Kingdom      88000      75000          750.0   \n",
       "3   Rolls Royce  United Kingdom      89000      88000            0.0   \n",
       "4   Rolls Royce  United Kingdom      92000      62000            0.0   \n",
       "\n",
       "   DeliveryCharge  SpareParts  LaborCost         Model          Color  \n",
       "0             750         500        750      Camargue            Red  \n",
       "1            1500         600        550           DBS           Blue  \n",
       "2            1000         750        550  Silver Ghost          Green  \n",
       "3            1000          85        550  Silver Ghost           Blue  \n",
       "4            1500        2500        550      Camargue  Canary Yellow  "
      ]
     },
     "execution_count": 1,
     "metadata": {},
     "output_type": "execute_result"
    }
   ],
   "source": [
    "import pandas as pd\n",
    "import matplotlib.pyplot as plt\n",
    "\n",
    "df = pd.read_excel(r'C:\\Users\\HP\\Downloads\\Simplified_Car_Sales_Data-1.xlsx') \n",
    "\n",
    "df.head()"
   ]
  },
  {
   "cell_type": "code",
   "execution_count": 2,
   "id": "41a4ab39",
   "metadata": {},
   "outputs": [
    {
     "data": {
      "text/plain": [
       "(457, 10)"
      ]
     },
     "execution_count": 2,
     "metadata": {},
     "output_type": "execute_result"
    }
   ],
   "source": [
    "df.shape"
   ]
  },
  {
   "cell_type": "code",
   "execution_count": 3,
   "id": "3c24377b",
   "metadata": {},
   "outputs": [
    {
     "data": {
      "text/plain": [
       "0      United Kingdom\n",
       "1      United Kingdom\n",
       "2      United Kingdom\n",
       "3      United Kingdom\n",
       "4      United Kingdom\n",
       "            ...      \n",
       "452               USA\n",
       "453               USA\n",
       "454               USA\n",
       "455               USA\n",
       "456               USA\n",
       "Name: CountryName, Length: 457, dtype: object"
      ]
     },
     "execution_count": 3,
     "metadata": {},
     "output_type": "execute_result"
    }
   ],
   "source": [
    "df[\"CountryName\"]"
   ]
  },
  {
   "cell_type": "code",
   "execution_count": 4,
   "id": "6f891e39",
   "metadata": {},
   "outputs": [],
   "source": [
    "states = [\"Germany\",\"Spain\",\"Switzerland\"]\n",
    "filter_states= df[df[\"CountryName\"].isin(states)]"
   ]
  },
  {
   "cell_type": "code",
   "execution_count": 5,
   "id": "ca7a5ba2",
   "metadata": {},
   "outputs": [],
   "source": [
    "filter_states=filter_states.groupby('CountryName')[['SalePrice','CostPrice']].sum()"
   ]
  },
  {
   "cell_type": "code",
   "execution_count": 6,
   "id": "870fb4f0",
   "metadata": {},
   "outputs": [
    {
     "data": {
      "text/plain": [
       "<AxesSubplot:title={'center':'Total sales and costs for Germany,Spain,Switzerland'}, ylabel='CountryName'>"
      ]
     },
     "execution_count": 6,
     "metadata": {},
     "output_type": "execute_result"
    },
    {
     "data": {
      "image/png": "[encoded data removed]",
      "text/plain": [
       "<Figure size 640x480 with 1 Axes>"
      ]
     },
     "metadata": {},
     "output_type": "display_data"
    }
   ],
   "source": [
    "filter_states.plot(kind=\"barh\",title=\"Total sales and costs for Germany,Spain,Switzerland\",\n",
    "             color={\"brown\", \"blue\"})"
   ]
  }
 ],
 "metadata": {
  "kernelspec": {
   "display_name": "Python 3 (ipykernel)",
   "language": "python",
   "name": "python3"
  },
  "language_info": {
   "codemirror_mode": {
    "name": "ipython",
    "version": 3
   },
   "file_extension": ".py",
   "mimetype": "text/x-python",
   "name": "python",
   "nbconvert_exporter": "python",
   "pygments_lexer": "ipython3",
   "version": "3.9.13"
  }
 },
 "nbformat": 4,
 "nbformat_minor": 5
}
